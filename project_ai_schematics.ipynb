{
 "cells": [
  {
   "cell_type": "code",
   "execution_count": 4,
   "metadata": {},
   "outputs": [],
   "source": [
    "import numpy as np"
   ]
  },
  {
   "cell_type": "markdown",
   "metadata": {},
   "source": [
    "First of all we define the different objects needed for the project."
   ]
  },
  {
   "cell_type": "markdown",
   "metadata": {},
   "source": [
    "State Space:"
   ]
  },
  {
   "cell_type": "code",
   "execution_count": 5,
   "metadata": {},
   "outputs": [
    {
     "ename": "SyntaxError",
     "evalue": "invalid syntax (<ipython-input-5-0bde29b479af>, line 2)",
     "output_type": "error",
     "traceback": [
      "\u001b[0;36m  File \u001b[0;32m\"<ipython-input-5-0bde29b479af>\"\u001b[0;36m, line \u001b[0;32m2\u001b[0m\n\u001b[0;31m    np.matrix game_positions\u001b[0m\n\u001b[0m              ^\u001b[0m\n\u001b[0;31mSyntaxError\u001b[0m\u001b[0;31m:\u001b[0m invalid syntax\n"
     ]
    }
   ],
   "source": [
    "class SokobanStateSpace:\n",
    "    np.matrix game_positions\n",
    "    \"\"\"I am actually curious about this one because I think that we \n",
    "    could instead compute them on an action instead of keeping all of it an only compute the actions \n",
    "    of the states that we need to know, not all the state space\"\"\"\n",
    "    int[][] actions_per_state \n",
    "    int[][] current position\n",
    "    \n",
    "    def __init__(self, game_positions, current_pos):\n",
    "        self.game_positions = game_positions\n",
    "        cols, rows = game_positions.shape\n",
    "        self.actions_per_state = zeros[cols*rows][4]"
   ]
  },
  {
   "cell_type": "markdown",
   "metadata": {},
   "source": [
    "Game itself:"
   ]
  },
  {
   "cell_type": "code",
   "execution_count": 10,
   "metadata": {},
   "outputs": [
    {
     "ename": "SyntaxError",
     "evalue": "invalid syntax (<ipython-input-10-a23b254d2329>, line 8)",
     "output_type": "error",
     "traceback": [
      "\u001b[0;36m  File \u001b[0;32m\"<ipython-input-10-a23b254d2329>\"\u001b[0;36m, line \u001b[0;32m8\u001b[0m\n\u001b[0;31m    bool finished\u001b[0m\n\u001b[0m         ^\u001b[0m\n\u001b[0;31mSyntaxError\u001b[0m\u001b[0;31m:\u001b[0m invalid syntax\n"
     ]
    }
   ],
   "source": [
    "MOVE_UP = -1\n",
    "MOVE_DOWN = -1\n",
    "MOVE_LEFT = -1\n",
    "MOVE_RIGHT = -1\n",
    "\n",
    "\n",
    "class SokobanGame:\n",
    "    bool finished\n",
    "    bool blocked\n",
    "    bool win\n",
    "    SokobanStateSpace sok_ss\n",
    "    int reward\n",
    "    \n",
    "    \n",
    "    def __init__(self, game_positions, current_pos):\n",
    "        self.sok_ss = SokobanStateSpace(game_positions, current_pos)\n",
    "        self.finished = False\n",
    "        self.blocked = False\n",
    "        self.win = False\n",
    "        int reward = 0\n",
    "    \n",
    "    \n",
    "    def move_left():\n",
    "        matrix = self.sok_ss.game_positions\n",
    "        \"\"\"Now we do all the if-else checking the left surroundings and checking the cases for obstacle, \n",
    "        treasure box to move, game finished, game blocked, etc.\"\"\"\n",
    "        \n",
    "        self.reward += MOVE_LEFT\n",
    "    \n",
    "    def move_right():\n",
    "        matrix = self.sok_ss.game_positions\n",
    "        \"\"\"Now we do all the if-else checking the right surroundings and checking the cases for obstacle, \n",
    "        treasure box to move, game finished, game blocked, etc.\"\"\"\n",
    "        \n",
    "        self.reward += MOVE_RIGHT\n",
    "    \n",
    "    def move_up():\n",
    "        matrix = self.sok_ss.game_positions\n",
    "        \"\"\"Now we do all the if-else checking the up surroundings and checking the cases for obstacle, \n",
    "        treasure box to move, game finished, game blocked, etc.\"\"\"\n",
    "        \n",
    "        self.reward += MOVE_UP\n",
    "    \n",
    "    def move_down():\n",
    "        matrix = self.sok_ss.game_positions\n",
    "        \"\"\"Now we do all the if-else checking the down surroundings and checking the cases for obstacle, \n",
    "        treasure box to move, game finished, game blocked, etc.\"\"\"\n",
    "        \n",
    "        self.reward += MOVE_DOWN\n",
    "    "
   ]
  },
  {
   "cell_type": "markdown",
   "metadata": {},
   "source": [
    "We also need to define a parser to define the game"
   ]
  },
  {
   "cell_type": "code",
   "execution_count": 18,
   "metadata": {},
   "outputs": [],
   "source": [
    "def file_parser_to_game(file_dir_name):\n",
    "    \"\"\"Convert file to read to an array of numbers called lines\"\"\"\n",
    "    for i in range(5):\n",
    "        if lines[i] == None:\n",
    "            return False, None, None, \"Empty Line, try again\"\n",
    "    cols = int(lines[0][0])\n",
    "    rows = int(lines[0][1])\n",
    "    \n",
    "    game_positions = np.matrix(cols,rows)\n",
    "    i = 1\n",
    "    while i < lines[1][0]:\n",
    "        if game_positions[lines[1][i]][lines[1][i+1]] == 0:\n",
    "            game_positions[lines[1][i]][lines[1][i+1]] = WALL_NUMBER\n",
    "            i += 2\n",
    "        else:\n",
    "            return False, None, None, \"Walls are colliding with other objects, try again\"\n",
    "    \n",
    "    j = 1\n",
    "    while j < lines[2][0]:\n",
    "        if game_positions[lines[2][j]][lines[2][j+1]] == 0:\n",
    "            game_positions[lines[2][j]][lines[2][j+1]] = BOX_NUMBER\n",
    "            j += 2\n",
    "        else:\n",
    "            return False, None, None, \"Boxes are colliding with other objects, try again\"\n",
    "    \n",
    "    game_positions[lines[2][0]][lines[2][1]] = PLAYER_NUMBER\n",
    "    current_pos = (lines[2][0], lines[2][1])\n",
    "    \n",
    "    return True, game_positions, current_pos, \"Game Parsed correctly\"\n",
    "\n"
   ]
  }
 ],
 "metadata": {
  "kernelspec": {
   "display_name": "Python 3",
   "language": "python",
   "name": "python3"
  },
  "language_info": {
   "codemirror_mode": {
    "name": "ipython",
    "version": 3
   },
   "file_extension": ".py",
   "mimetype": "text/x-python",
   "name": "python",
   "nbconvert_exporter": "python",
   "pygments_lexer": "ipython3",
   "version": "3.8.3"
  }
 },
 "nbformat": 4,
 "nbformat_minor": 4
}
